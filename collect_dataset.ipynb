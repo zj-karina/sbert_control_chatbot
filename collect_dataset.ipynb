{
 "cells": [
  {
   "cell_type": "code",
   "execution_count": 21,
   "id": "eaacbf5a-a872-4744-9a4a-58d744ad148f",
   "metadata": {},
   "outputs": [],
   "source": [
    "import openai\n",
    "import os\n",
    "from tqdm import tqdm"
   ]
  },
  {
   "cell_type": "code",
   "execution_count": 25,
   "id": "f9de5d2c-0bbe-487d-9463-682d067e17b5",
   "metadata": {},
   "outputs": [
    {
     "name": "stderr",
     "output_type": "stream",
     "text": [
      "  0%|          | 0/10000 [00:20<?, ?it/s]\n"
     ]
    }
   ],
   "source": [
    "list_for_errors = []\n",
    "openai.api_key = os.environ[\"OPENAI_API_KEY\"] \n",
    "prompt = f'''There is a dialogue between two people. They are discussing [topic]. \n",
    "The first person has some facts about himself: his name, city of residence, age, and 2 interests There is a dialogue between two people. They are discussing [topic]. \n",
    "The first person has some facts about themselves: their name, where they live, their age and 2 interesting facts about \n",
    "based on his background or hobbies. This is called [bot's persona].\n",
    "The second person has some facts about himself: his name, city of residence, age and 2 interesting facts based on his past or hobbies. \n",
    "This is called [humans's persona]. The dialogue between them should be summarized in [summary]. \n",
    "The conversation should alternate between bot and user in [role]. The two interlocutors ask each other questions based on the topic and previous messages. \n",
    "The first interlocutor is very sociable, nice, interesting, friendly.\n",
    "\n",
    "Let's generate a new dialog. This is an example output. It should be a JSON file with the following structure:\n",
    "    \"topic\": [\"acquaintance\"],\n",
    "    \"dialog\": [\n",
    "        \"Hi, can we meet?\",\n",
    "        \"Hi, of course! Tell us about yourself. What do you like to do in your spare time?\"\n",
    "        \"I'm a programmer.\"\n",
    "        \"Can you tell me more about your work? I've always been fascinated by people who understand innovative technology.\"\n",
    "    ],\n",
    "    \"summary\": [\"A young man wants to meet a girl who is interested in learning more about him.\"],\n",
    "    }, \"girl's persona\": [\"Alina, 22 years old, from Estonia, likes sports and is a student.\"],\n",
    "    \"boy's persona\": [\"Herman, 20, from France, is a programmer and is looking for a girlfriend.\"],\n",
    "    \"role\": [\"young man,\" \"girl,\" \"young man,\" \"girl\"]]. \n",
    "based on his background or hobbies. This is called [bot's persona].\n",
    "The second person has some facts about himself: his name, city of residence, age and 2 interesting facts based on his past or hobbies. \n",
    "This is called [humans's persona]. The dialogue between them should be summarized in [summary]. \n",
    "The conversation should alternate between bot and user in [role]. The two interlocutors ask each other questions based on the topic and previous messages. \n",
    "The first interlocutor is very sociable, nice, interesting, friendly.\n",
    "\n",
    "Let's generate a new dialog. This is an example output. It should be a JSON file with the following structure:\n",
    "    \"topic\": [\"acquaintance\"],\n",
    "    \"dialog\": [\n",
    "        \"Hi, can we meet?\",\n",
    "        \"Hi, of course! Tell us about yourself. What do you like to do in your spare time?\"\n",
    "        \"I'm a programmer.\"\n",
    "        \"Can you tell me more about your work? I've always been fascinated by people who understand innovative technology.\"\n",
    "    ],\n",
    "    \"summary\": [\"A young man wants to meet a girl who is interested in learning more about him.\"],\n",
    "    }, \"girl's persona\": [\"Alina, 22 years old, from Estonia, likes sports and is a student.\"],\n",
    "    \"boy's persona\": [\"Herman, 20, from France, is a programmer and is looking for a girlfriend.\"],\n",
    "    \"role\": [\"young man\", \"girl\", \"young man\", \"girl\"].\n",
    "'''\n",
    "for data in tqdm(range(10000)):\n",
    "    \n",
    "    completion = openai.ChatCompletion.create(\n",
    "        model=\"gpt-3.5-turbo\",\n",
    "        messages=[\n",
    "        {\"role\": \"user\", \"content\": prompt}])\n",
    "    break\n",
    "            dict_fact[\"topic\"].append(json.loads(completion.choices[0].message.content)[\"topic\"])\n",
    "            dict_fact[\"dialog\"].append(json.loads(completion.choices[0].message.content)[\"dialog\"])\n",
    "            dict_fact[\"summary\"].append(json.loads(completion.choices[0].message.content)[\"summary\"])\n",
    "            dict_fact[\"bot's persona\"].append(json.loads(completion.choices[0].message.content)[\"bot's persona\"])\n",
    "            dict_fact[\"human's persona\"].append(json.loads(completion.choices[0].message.content)[\"human's persona\"])\n",
    "            dict_fact[\"role\"].append(json.loads(completion.choices[0].message.content)[\"role\"])\n",
    "            \n",
    "            with open('matreshka.json', 'w') as f:\n",
    "                json.dump(dict_fact, f, ensure_ascii=False)\n",
    "        except Exception as e:\n",
    "            list_for_errors.append(completion.choices[0].message.content)\n",
    "    except:\n",
    "        pass"
   ]
  },
  {
   "cell_type": "code",
   "execution_count": 27,
   "id": "4c729257-753d-465b-8384-18ac0696988b",
   "metadata": {},
   "outputs": [],
   "source": [
    "import json\n",
    "# load data from JSON file\n",
    "with open(\"dialogs.json\", \"r\") as f:\n",
    "    data_str = f.read()\n",
    "\n",
    "# convert data from string to list\n",
    "data_list = json.loads(data_str)"
   ]
  },
  {
   "cell_type": "code",
   "execution_count": 28,
   "id": "5febf7ca-631a-4a7e-9e3d-018a2f400092",
   "metadata": {},
   "outputs": [],
   "source": [
    "import pandas as pd\n",
    "df = pd.DataFrame.from_dict(data_list)"
   ]
  },
  {
   "cell_type": "code",
   "execution_count": 29,
   "id": "d7fb56ca-c313-4d52-96ac-b65fd8dc2df3",
   "metadata": {},
   "outputs": [
    {
     "data": {
      "text/plain": [
       "['В России 11 часов вечера',\n",
       " 'Интересно, сколько вообще часовых поясов в мире?',\n",
       " 'В мире насчитывается 24 часовых пояса',\n",
       " 'А какой самый крупный океан? Я думаю, ты ответишь правильно',\n",
       " 'Самым крупным океаном мира является Тихий',\n",
       " 'Интересно, а как называется столица Италии?']"
      ]
     },
     "execution_count": 29,
     "metadata": {},
     "output_type": "execute_result"
    }
   ],
   "source": [
    "df['dialog'][0]"
   ]
  },
  {
   "cell_type": "code",
   "execution_count": 30,
   "id": "839233ff-80e3-4af2-87bf-b45a79e58f66",
   "metadata": {},
   "outputs": [],
   "source": [
    "df = df.sample(frac=1).reset_index(drop=True)"
   ]
  },
  {
   "cell_type": "code",
   "execution_count": 31,
   "id": "5685ed75-3249-4aad-b2b6-725b12267567",
   "metadata": {},
   "outputs": [],
   "source": [
    "df1 = df.sample(frac=0.8, random_state=1)\n",
    "df2 = df.drop(df1.index)"
   ]
  },
  {
   "cell_type": "code",
   "execution_count": 12,
   "id": "fe15aed0-1258-4be9-83a3-54a398972618",
   "metadata": {},
   "outputs": [
    {
     "data": {
      "text/html": [
       "<div>\n",
       "<style scoped>\n",
       "    .dataframe tbody tr th:only-of-type {\n",
       "        vertical-align: middle;\n",
       "    }\n",
       "\n",
       "    .dataframe tbody tr th {\n",
       "        vertical-align: top;\n",
       "    }\n",
       "\n",
       "    .dataframe thead th {\n",
       "        text-align: right;\n",
       "    }\n",
       "</style>\n",
       "<table border=\"1\" class=\"dataframe\">\n",
       "  <thead>\n",
       "    <tr style=\"text-align: right;\">\n",
       "      <th></th>\n",
       "      <th>role</th>\n",
       "      <th>dialog</th>\n",
       "      <th>persona</th>\n",
       "      <th>summary</th>\n",
       "    </tr>\n",
       "  </thead>\n",
       "  <tbody>\n",
       "    <tr>\n",
       "      <th>2025</th>\n",
       "      <td>[user, bot, user, bot]</td>\n",
       "      <td>[Что ты думаешь о последних новостях?, Мне каж...</td>\n",
       "      <td>Первый собеседник - интересовался мнением бота...</td>\n",
       "      <td>Первый собеседник интересуется мнением бота о ...</td>\n",
       "    </tr>\n",
       "    <tr>\n",
       "      <th>311</th>\n",
       "      <td>[user, bot, user, bot, user, bot]</td>\n",
       "      <td>[Привет, как дела?, Привет! Всё отлично, спаси...</td>\n",
       "      <td>Первый собеседник – любопытный и образованный ...</td>\n",
       "      <td>В диалоге первый собеседник интересуется факта...</td>\n",
       "    </tr>\n",
       "    <tr>\n",
       "      <th>4631</th>\n",
       "      <td>[user, bot, user, bot, user, bot, user, bot, u...</td>\n",
       "      <td>[Привет, как дела?, Привет! У меня всё хорошо,...</td>\n",
       "      <td>Первый собеседник - незнакомый человек, интере...</td>\n",
       "      <td>Первый собеседник спрашивает, как дела, затем ...</td>\n",
       "    </tr>\n",
       "    <tr>\n",
       "      <th>4412</th>\n",
       "      <td>[user, bot, user, bot, user]</td>\n",
       "      <td>[Здравствуйте, я хочу заказать поездку на такс...</td>\n",
       "      <td>Это клиент, который хочет заказать транспорт</td>\n",
       "      <td>Клиент хочет заказать поездку в аэропорт и спр...</td>\n",
       "    </tr>\n",
       "    <tr>\n",
       "      <th>5737</th>\n",
       "      <td>[user, bot, user, bot, user, bot, user]</td>\n",
       "      <td>[Привет! Как дела?, Привет! У меня все отлично...</td>\n",
       "      <td>Первый собеседник - простой человек, интересую...</td>\n",
       "      <td>Первый собеседник интересуется фактами о Росси...</td>\n",
       "    </tr>\n",
       "    <tr>\n",
       "      <th>...</th>\n",
       "      <td>...</td>\n",
       "      <td>...</td>\n",
       "      <td>...</td>\n",
       "      <td>...</td>\n",
       "    </tr>\n",
       "    <tr>\n",
       "      <th>4231</th>\n",
       "      <td>[user, bot, user, bot, user, bot, user, bot]</td>\n",
       "      <td>[Москва - это столица России, Да, это верно. М...</td>\n",
       "      <td>Первый собеседник участвовал в диалоге, задава...</td>\n",
       "      <td>Первый собеседник интересовался географическим...</td>\n",
       "    </tr>\n",
       "    <tr>\n",
       "      <th>3261</th>\n",
       "      <td>[user, bot, user, bot, user, bot]</td>\n",
       "      <td>[Ты знал, что город Нью-Йорк находится на остр...</td>\n",
       "      <td>Собеседник - достаточно образованный и внимате...</td>\n",
       "      <td>Собеседник и бот обмениваются интересными факт...</td>\n",
       "    </tr>\n",
       "    <tr>\n",
       "      <th>6733</th>\n",
       "      <td>[user, bot, bot, user]</td>\n",
       "      <td>[Тебе нравятся животные? У тебя есть домашние ...</td>\n",
       "      <td>Первый собеседник - любитель животных, у котор...</td>\n",
       "      <td>Пользователь задает вопросы о том, нравятся ли...</td>\n",
       "    </tr>\n",
       "    <tr>\n",
       "      <th>2191</th>\n",
       "      <td>[user, bot, user, bot]</td>\n",
       "      <td>[Прости, я вчера была слишком груба. Может, ты...</td>\n",
       "      <td>Первый собеседник признается в своей грубости ...</td>\n",
       "      <td>Первый собеседник извиняется за свою грубость ...</td>\n",
       "    </tr>\n",
       "    <tr>\n",
       "      <th>211</th>\n",
       "      <td>[user, bot, user, bot]</td>\n",
       "      <td>[Почему ты считаешь, что это лучшее решение?, ...</td>\n",
       "      <td>В первом сообщении выступает неопределенный со...</td>\n",
       "      <td>Собеседники обсуждают оптимальный вариант реше...</td>\n",
       "    </tr>\n",
       "  </tbody>\n",
       "</table>\n",
       "<p>6655 rows × 4 columns</p>\n",
       "</div>"
      ],
      "text/plain": [
       "                                                   role  \\\n",
       "2025                             [user, bot, user, bot]   \n",
       "311                   [user, bot, user, bot, user, bot]   \n",
       "4631  [user, bot, user, bot, user, bot, user, bot, u...   \n",
       "4412                       [user, bot, user, bot, user]   \n",
       "5737            [user, bot, user, bot, user, bot, user]   \n",
       "...                                                 ...   \n",
       "4231       [user, bot, user, bot, user, bot, user, bot]   \n",
       "3261                  [user, bot, user, bot, user, bot]   \n",
       "6733                             [user, bot, bot, user]   \n",
       "2191                             [user, bot, user, bot]   \n",
       "211                              [user, bot, user, bot]   \n",
       "\n",
       "                                                 dialog  \\\n",
       "2025  [Что ты думаешь о последних новостях?, Мне каж...   \n",
       "311   [Привет, как дела?, Привет! Всё отлично, спаси...   \n",
       "4631  [Привет, как дела?, Привет! У меня всё хорошо,...   \n",
       "4412  [Здравствуйте, я хочу заказать поездку на такс...   \n",
       "5737  [Привет! Как дела?, Привет! У меня все отлично...   \n",
       "...                                                 ...   \n",
       "4231  [Москва - это столица России, Да, это верно. М...   \n",
       "3261  [Ты знал, что город Нью-Йорк находится на остр...   \n",
       "6733  [Тебе нравятся животные? У тебя есть домашние ...   \n",
       "2191  [Прости, я вчера была слишком груба. Может, ты...   \n",
       "211   [Почему ты считаешь, что это лучшее решение?, ...   \n",
       "\n",
       "                                                persona  \\\n",
       "2025  Первый собеседник - интересовался мнением бота...   \n",
       "311   Первый собеседник – любопытный и образованный ...   \n",
       "4631  Первый собеседник - незнакомый человек, интере...   \n",
       "4412       Это клиент, который хочет заказать транспорт   \n",
       "5737  Первый собеседник - простой человек, интересую...   \n",
       "...                                                 ...   \n",
       "4231  Первый собеседник участвовал в диалоге, задава...   \n",
       "3261  Собеседник - достаточно образованный и внимате...   \n",
       "6733  Первый собеседник - любитель животных, у котор...   \n",
       "2191  Первый собеседник признается в своей грубости ...   \n",
       "211   В первом сообщении выступает неопределенный со...   \n",
       "\n",
       "                                                summary  \n",
       "2025  Первый собеседник интересуется мнением бота о ...  \n",
       "311   В диалоге первый собеседник интересуется факта...  \n",
       "4631  Первый собеседник спрашивает, как дела, затем ...  \n",
       "4412  Клиент хочет заказать поездку в аэропорт и спр...  \n",
       "5737  Первый собеседник интересуется фактами о Росси...  \n",
       "...                                                 ...  \n",
       "4231  Первый собеседник интересовался географическим...  \n",
       "3261  Собеседник и бот обмениваются интересными факт...  \n",
       "6733  Пользователь задает вопросы о том, нравятся ли...  \n",
       "2191  Первый собеседник извиняется за свою грубость ...  \n",
       "211   Собеседники обсуждают оптимальный вариант реше...  \n",
       "\n",
       "[6655 rows x 4 columns]"
      ]
     },
     "execution_count": 12,
     "metadata": {},
     "output_type": "execute_result"
    }
   ],
   "source": [
    "df1"
   ]
  },
  {
   "cell_type": "code",
   "execution_count": 17,
   "id": "3db34b90-5bda-4a7a-aed1-3ae5af68c967",
   "metadata": {},
   "outputs": [],
   "source": [
    "from datasets import DatasetDict\n",
    "from datasets import Dataset\n"
   ]
  },
  {
   "cell_type": "code",
   "execution_count": 18,
   "id": "a2f111c3-83f6-4e99-9322-bca78583fca0",
   "metadata": {},
   "outputs": [],
   "source": [
    "dataset_all = DatasetDict({\n",
    "    \"train\": Dataset.from_pandas(df1), \n",
    "    \"validation\": Dataset.from_pandas(df2)\n",
    "    }\n",
    ")"
   ]
  },
  {
   "cell_type": "code",
   "execution_count": null,
   "id": "29ecd4ae-4493-4977-85da-605d3571cdb8",
   "metadata": {},
   "outputs": [],
   "source": [
    "dataset_all.push_to_hub(...)"
   ]
  }
 ],
 "metadata": {
  "kernelspec": {
   "display_name": "Python 3 (ipykernel)",
   "language": "python",
   "name": "python3"
  },
  "language_info": {
   "codemirror_mode": {
    "name": "ipython",
    "version": 3
   },
   "file_extension": ".py",
   "mimetype": "text/x-python",
   "name": "python",
   "nbconvert_exporter": "python",
   "pygments_lexer": "ipython3",
   "version": "3.8.10"
  }
 },
 "nbformat": 4,
 "nbformat_minor": 5
}
