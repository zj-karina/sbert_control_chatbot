{
 "cells": [
  {
   "cell_type": "code",
   "execution_count": 3,
   "id": "6e0cfba6-1dcd-48ec-b9e0-e17a922c07af",
   "metadata": {},
   "outputs": [],
   "source": [
    "import os\n",
    "import pandas as pd\n",
    "import re\n",
    "import random\n",
    "import json\n",
    "from tqdm.auto import tqdm\n",
    "from tqdm.autonotebook import tqdm, trange as notebook_tqdm, trange\n",
    "from transformers import AutoTokenizer, AutoModel\n",
    "import torch"
   ]
  },
  {
   "cell_type": "code",
   "execution_count": 4,
   "id": "ae8d73a3-1c91-4c4d-a1b5-c9cdba34159a",
   "metadata": {},
   "outputs": [],
   "source": [
    "import os\n",
    "os.environ[\"CUDA_VISIBLE_DEVICES\"] = \"3\""
   ]
  },
  {
   "cell_type": "code",
   "execution_count": 5,
   "id": "dd746de5-0ee8-4de0-aa09-30648741cf40",
   "metadata": {},
   "outputs": [
    {
     "name": "stderr",
     "output_type": "stream",
     "text": [
      "Found cached dataset parquet (/home/kromanova/.cache/huggingface/datasets/MBZUAI___parquet/default-3bf051cc03b2354d/0.0.0/14a00e99c0d15a23649d0db8944380ac81082d4b021f398733dd84f3a6c569a7)\n",
      "100%|███████████████████████████████████████████████████████████████████████████████████████████████████████████████████████████████████████████████████████████████████████████████████████████████████████████████████████████| 1/1 [00:00<00:00, 21.04it/s]\n"
     ]
    }
   ],
   "source": [
    "from datasets import load_dataset\n",
    "\n",
    "dataset = load_dataset(\"MBZUAI/LaMini-instruction\")"
   ]
  },
  {
   "cell_type": "code",
   "execution_count": null,
   "id": "519cebd1-a4c5-44df-909f-e98e347ef23d",
   "metadata": {},
   "outputs": [],
   "source": [
    "dataset"
   ]
  },
  {
   "cell_type": "code",
   "execution_count": 6,
   "id": "e333c697-67ea-4c38-9a6e-e91295a097d2",
   "metadata": {},
   "outputs": [],
   "source": [
    "import pandas as pd\n",
    "df = pd.DataFrame(dataset[\"train\"][:100000])"
   ]
  },
  {
   "cell_type": "code",
   "execution_count": 7,
   "id": "9c6793eb-7f8a-48c4-896b-a05b96b054e9",
   "metadata": {},
   "outputs": [],
   "source": [
    "df.drop(\"instruction_source\", axis=1, inplace=True)"
   ]
  },
  {
   "cell_type": "code",
   "execution_count": 10,
   "id": "85242959-bdb6-4061-91b5-41ea24547219",
   "metadata": {},
   "outputs": [],
   "source": [
    "df = df.reset_index() "
   ]
  },
  {
   "cell_type": "code",
   "execution_count": 11,
   "id": "9aa90af1-7557-463f-9869-0be1353d81ee",
   "metadata": {},
   "outputs": [],
   "source": [
    "df.drop('index', axis=1, inplace=True)"
   ]
  },
  {
   "cell_type": "markdown",
   "id": "84708692-39b6-4066-be69-ce9664346b36",
   "metadata": {},
   "source": [
    "# Расширение токенайзера"
   ]
  },
  {
   "cell_type": "code",
   "execution_count": 10,
   "id": "215cfc8f-d6f1-4be9-bf3f-2416ae7c5a28",
   "metadata": {},
   "outputs": [],
   "source": [
    "from collections import Counter, defaultdict\n",
    "import numpy as np"
   ]
  },
  {
   "cell_type": "code",
   "execution_count": 4,
   "id": "782c9ee5-9744-4214-9da5-46869beb47bb",
   "metadata": {},
   "outputs": [
    {
     "name": "stderr",
     "output_type": "stream",
     "text": [
      "2023-07-02 22:06:24.456220: W external/org_tensorflow/tensorflow/tsl/platform/default/dso_loader.cc:66] Could not load dynamic library 'libcudart.so.11.0'; dlerror: libcudart.so.11.0: cannot open shared object file: No such file or directory\n",
      "2023-07-02 22:06:24.491014: W external/org_tensorflow/tensorflow/tsl/platform/default/dso_loader.cc:66] Could not load dynamic library 'libcudart.so.11.0'; dlerror: libcudart.so.11.0: cannot open shared object file: No such file or directory\n",
      "2023-07-02 22:06:24.492164: W external/org_tensorflow/tensorflow/tsl/platform/default/dso_loader.cc:66] Could not load dynamic library 'libcudart.so.11.0'; dlerror: libcudart.so.11.0: cannot open shared object file: No such file or directory\n"
     ]
    }
   ],
   "source": [
    "from transformers import AutoModelForPreTraining, AutoTokenizer, BertTokenizer"
   ]
  },
  {
   "cell_type": "code",
   "execution_count": 2,
   "id": "9bcd2315-2262-4926-a626-5ef5d08700cb",
   "metadata": {},
   "outputs": [],
   "source": [
    "base_model = 'cointegrated/LaBSE-en-ru'"
   ]
  },
  {
   "cell_type": "code",
   "execution_count": 5,
   "id": "7c7bea13-ddb9-42d0-8392-69d5d2b1484d",
   "metadata": {},
   "outputs": [
    {
     "name": "stdout",
     "output_type": "stream",
     "text": [
      "55083\n"
     ]
    }
   ],
   "source": [
    "tokenizer = BertTokenizer.from_pretrained(base_model)\n",
    "print(tokenizer.vocab_size)"
   ]
  },
  {
   "cell_type": "code",
   "execution_count": 6,
   "id": "958334b3-75c0-4690-ab8e-fd7b5ed682e3",
   "metadata": {},
   "outputs": [
    {
     "name": "stdout",
     "output_type": "stream",
     "text": [
      "[2023-07-02 22:06:32,161] [INFO] [real_accelerator.py:110:get_accelerator] Setting ds_accelerator to cuda (auto detect)\n"
     ]
    }
   ],
   "source": [
    "model = AutoModelForPreTraining.from_pretrained(base_model)"
   ]
  },
  {
   "cell_type": "code",
   "execution_count": 15,
   "id": "68fb4080-ee97-41f1-8494-170d717cb73e",
   "metadata": {},
   "outputs": [],
   "source": [
    "import gc\n",
    "\n",
    "def cleanup():\n",
    "    gc.collect()\n",
    "    torch.cuda.empty_cache()\n",
    "    \n",
    "cleanup()"
   ]
  },
  {
   "cell_type": "code",
   "execution_count": 16,
   "id": "eafebfb3-4cf3-46c8-a12f-83ad43b7de6a",
   "metadata": {},
   "outputs": [
    {
     "data": {
      "text/plain": [
       "BertForPreTraining(\n",
       "  (bert): BertModel(\n",
       "    (embeddings): BertEmbeddings(\n",
       "      (word_embeddings): Embedding(55083, 768, padding_idx=0)\n",
       "      (position_embeddings): Embedding(512, 768)\n",
       "      (token_type_embeddings): Embedding(2, 768)\n",
       "      (LayerNorm): LayerNorm((768,), eps=1e-12, elementwise_affine=True)\n",
       "      (dropout): Dropout(p=0.1, inplace=False)\n",
       "    )\n",
       "    (encoder): BertEncoder(\n",
       "      (layer): ModuleList(\n",
       "        (0-11): 12 x BertLayer(\n",
       "          (attention): BertAttention(\n",
       "            (self): BertSelfAttention(\n",
       "              (query): Linear(in_features=768, out_features=768, bias=True)\n",
       "              (key): Linear(in_features=768, out_features=768, bias=True)\n",
       "              (value): Linear(in_features=768, out_features=768, bias=True)\n",
       "              (dropout): Dropout(p=0.1, inplace=False)\n",
       "            )\n",
       "            (output): BertSelfOutput(\n",
       "              (dense): Linear(in_features=768, out_features=768, bias=True)\n",
       "              (LayerNorm): LayerNorm((768,), eps=1e-12, elementwise_affine=True)\n",
       "              (dropout): Dropout(p=0.1, inplace=False)\n",
       "            )\n",
       "          )\n",
       "          (intermediate): BertIntermediate(\n",
       "            (dense): Linear(in_features=768, out_features=3072, bias=True)\n",
       "            (intermediate_act_fn): GELUActivation()\n",
       "          )\n",
       "          (output): BertOutput(\n",
       "            (dense): Linear(in_features=3072, out_features=768, bias=True)\n",
       "            (LayerNorm): LayerNorm((768,), eps=1e-12, elementwise_affine=True)\n",
       "            (dropout): Dropout(p=0.1, inplace=False)\n",
       "          )\n",
       "        )\n",
       "      )\n",
       "    )\n",
       "    (pooler): BertPooler(\n",
       "      (dense): Linear(in_features=768, out_features=768, bias=True)\n",
       "      (activation): Tanh()\n",
       "    )\n",
       "  )\n",
       "  (cls): BertPreTrainingHeads(\n",
       "    (predictions): BertLMPredictionHead(\n",
       "      (transform): BertPredictionHeadTransform(\n",
       "        (dense): Linear(in_features=768, out_features=768, bias=True)\n",
       "        (transform_act_fn): GELUActivation()\n",
       "        (LayerNorm): LayerNorm((768,), eps=1e-12, elementwise_affine=True)\n",
       "      )\n",
       "      (decoder): Linear(in_features=768, out_features=55083, bias=True)\n",
       "    )\n",
       "    (seq_relationship): Linear(in_features=768, out_features=2, bias=True)\n",
       "  )\n",
       ")"
      ]
     },
     "execution_count": 16,
     "metadata": {},
     "output_type": "execute_result"
    }
   ],
   "source": [
    "model"
   ]
  },
  {
   "cell_type": "markdown",
   "id": "6ee6656e-509c-421a-9475-d1b0fe9651c6",
   "metadata": {},
   "source": [
    "# Train"
   ]
  },
  {
   "cell_type": "code",
   "execution_count": 17,
   "id": "8e38566c-f8b7-4665-bbde-1ea75875a556",
   "metadata": {},
   "outputs": [],
   "source": [
    "for p in model.parameters():\n",
    "    p.requires_grad = False\n",
    "for p in model.bert.embeddings.word_embeddings.parameters():\n",
    "    p.requires_grad = True"
   ]
  },
  {
   "cell_type": "code",
   "execution_count": 18,
   "id": "24ea86ae-f071-4ae7-b975-356ea7e62c4f",
   "metadata": {},
   "outputs": [],
   "source": [
    "batch_size = 16\n",
    "margin = 0.3"
   ]
  },
  {
   "cell_type": "code",
   "execution_count": 19,
   "id": "05433330-4dc3-46f3-8a47-8534f9aac594",
   "metadata": {},
   "outputs": [],
   "source": [
    "loss_fn = torch.nn.CrossEntropyLoss()"
   ]
  },
  {
   "cell_type": "code",
   "execution_count": 20,
   "id": "7129e573-4594-48cd-b66e-825d0e6b37da",
   "metadata": {},
   "outputs": [],
   "source": [
    "from transformers.optimization import Adafactor\n",
    "optimizer = Adafactor(\n",
    "    [p for p in model.parameters() if p.requires_grad], \n",
    "    scale_parameter=False, relative_step=False, lr=1e-5, clip_threshold=1.0\n",
    ")"
   ]
  },
  {
   "cell_type": "code",
   "execution_count": 21,
   "id": "c12459c5-d122-4b3a-a608-80da976e2d92",
   "metadata": {},
   "outputs": [],
   "source": [
    "def get_acc(embeddings):\n",
    "    batch_size = embeddings.shape[0] // 2\n",
    "    with torch.no_grad():\n",
    "        scores = torch.matmul(\n",
    "            embeddings[:batch_size].detach(),\n",
    "            embeddings[batch_size:].T\n",
    "        ).cpu().numpy()\n",
    "    a1 = (scores.argmax(1) == np.arange(batch_size)).mean()\n",
    "    a2 = (scores.argmax(0) == np.arange(batch_size)).mean()\n",
    "    return (a1 + a2) / 2"
   ]
  },
  {
   "cell_type": "code",
   "execution_count": 22,
   "id": "a8499a3d-e74b-40b0-87fb-6eab20d6db34",
   "metadata": {},
   "outputs": [],
   "source": [
    "losses = []"
   ]
  },
  {
   "cell_type": "code",
   "execution_count": 23,
   "id": "53d71c16-92fe-45ef-bf89-ef7124535254",
   "metadata": {},
   "outputs": [],
   "source": [
    "accuracies = []"
   ]
  },
  {
   "cell_type": "code",
   "execution_count": 24,
   "id": "4ce7f1cb-fb38-49b2-b175-511254fff1ef",
   "metadata": {},
   "outputs": [],
   "source": [
    "all_pairs = list(df.itertuples(index=False, name=None))"
   ]
  },
  {
   "cell_type": "code",
   "execution_count": 25,
   "id": "d2ba8da5-116c-4950-a5fe-b0ae3835cefa",
   "metadata": {},
   "outputs": [],
   "source": [
    "import logging\n",
    "\n",
    "# создаем логгер\n",
    "logger = logging.getLogger(__name__)\n",
    "logger.setLevel(logging.DEBUG)\n",
    "\n",
    "# создаем файловый обработчик логов\n",
    "file_handler = logging.FileHandler('train.log')\n",
    "file_handler.setLevel(logging.DEBUG)\n",
    "\n",
    "# создаем форматтер для логов\n",
    "formatter = logging.Formatter('%(asctime)s - %(levelname)s - %(message)s')\n",
    "file_handler.setFormatter(formatter)\n",
    "\n",
    "# добавляем обработчик в логгер\n",
    "logger.addHandler(file_handler)"
   ]
  },
  {
   "cell_type": "code",
   "execution_count": 26,
   "id": "a0760e94-cba7-4f3e-9b8b-a5496d8e08d7",
   "metadata": {},
   "outputs": [
    {
     "data": {
      "text/plain": [
       "100000"
      ]
     },
     "execution_count": 26,
     "metadata": {},
     "output_type": "execute_result"
    }
   ],
   "source": [
    "len(all_pairs)"
   ]
  },
  {
   "cell_type": "code",
   "execution_count": 27,
   "id": "58cf0bda-b5a7-49d6-9002-f0d3e16c720e",
   "metadata": {},
   "outputs": [
    {
     "data": {
      "text/plain": [
       "BertForPreTraining(\n",
       "  (bert): BertModel(\n",
       "    (embeddings): BertEmbeddings(\n",
       "      (word_embeddings): Embedding(55083, 768, padding_idx=0)\n",
       "      (position_embeddings): Embedding(512, 768)\n",
       "      (token_type_embeddings): Embedding(2, 768)\n",
       "      (LayerNorm): LayerNorm((768,), eps=1e-12, elementwise_affine=True)\n",
       "      (dropout): Dropout(p=0.1, inplace=False)\n",
       "    )\n",
       "    (encoder): BertEncoder(\n",
       "      (layer): ModuleList(\n",
       "        (0-11): 12 x BertLayer(\n",
       "          (attention): BertAttention(\n",
       "            (self): BertSelfAttention(\n",
       "              (query): Linear(in_features=768, out_features=768, bias=True)\n",
       "              (key): Linear(in_features=768, out_features=768, bias=True)\n",
       "              (value): Linear(in_features=768, out_features=768, bias=True)\n",
       "              (dropout): Dropout(p=0.1, inplace=False)\n",
       "            )\n",
       "            (output): BertSelfOutput(\n",
       "              (dense): Linear(in_features=768, out_features=768, bias=True)\n",
       "              (LayerNorm): LayerNorm((768,), eps=1e-12, elementwise_affine=True)\n",
       "              (dropout): Dropout(p=0.1, inplace=False)\n",
       "            )\n",
       "          )\n",
       "          (intermediate): BertIntermediate(\n",
       "            (dense): Linear(in_features=768, out_features=3072, bias=True)\n",
       "            (intermediate_act_fn): GELUActivation()\n",
       "          )\n",
       "          (output): BertOutput(\n",
       "            (dense): Linear(in_features=3072, out_features=768, bias=True)\n",
       "            (LayerNorm): LayerNorm((768,), eps=1e-12, elementwise_affine=True)\n",
       "            (dropout): Dropout(p=0.1, inplace=False)\n",
       "          )\n",
       "        )\n",
       "      )\n",
       "    )\n",
       "    (pooler): BertPooler(\n",
       "      (dense): Linear(in_features=768, out_features=768, bias=True)\n",
       "      (activation): Tanh()\n",
       "    )\n",
       "  )\n",
       "  (cls): BertPreTrainingHeads(\n",
       "    (predictions): BertLMPredictionHead(\n",
       "      (transform): BertPredictionHeadTransform(\n",
       "        (dense): Linear(in_features=768, out_features=768, bias=True)\n",
       "        (transform_act_fn): GELUActivation()\n",
       "        (LayerNorm): LayerNorm((768,), eps=1e-12, elementwise_affine=True)\n",
       "      )\n",
       "      (decoder): Linear(in_features=768, out_features=55083, bias=True)\n",
       "    )\n",
       "    (seq_relationship): Linear(in_features=768, out_features=2, bias=True)\n",
       "  )\n",
       ")"
      ]
     },
     "execution_count": 27,
     "metadata": {},
     "output_type": "execute_result"
    }
   ],
   "source": [
    "model.to('cuda')"
   ]
  },
  {
   "cell_type": "code",
   "execution_count": null,
   "id": "834d8a16-63b6-4ec3-9797-b26278d24903",
   "metadata": {},
   "outputs": [
    {
     "name": "stderr",
     "output_type": "stream",
     "text": [
      "  0%|                                                                                                                                                                                                                   | 2/300000 [00:00<31:25:09,  2.65it/s]"
     ]
    },
    {
     "name": "stdout",
     "output_type": "stream",
     "text": [
      "0 5.4809675216674805 0.90625\n"
     ]
    },
    {
     "name": "stderr",
     "output_type": "stream",
     "text": [
      "  0%|                                                                                                                                                                                                                  | 31/300000 [00:04<11:26:47,  7.28it/s]"
     ]
    }
   ],
   "source": [
    "model.train()\n",
    "tq = trange(300_000)\n",
    "for i in tq:\n",
    "    myv, ru = [list(p) for p in zip(*random.choices(all_pairs, k=batch_size))]\n",
    "    try:\n",
    "        batch = tokenizer(ru+myv, return_tensors='pt', padding=True, truncation=True, max_length=128).to(model.device)\n",
    "        out = model.bert(**batch, output_hidden_states=True)\n",
    "        embeddings = torch.nn.functional.normalize(out.pooler_output)\n",
    "        all_scores = torch.matmul(\n",
    "            embeddings[:batch_size].detach(), # keep Russian embeddings frozen\n",
    "            embeddings[batch_size:].T  # update Erzya embeddings\n",
    "        ) - torch.eye(batch_size, device=model.device) * margin\n",
    "        loss = loss_fn(all_scores, torch.arange(batch_size, device=model.device)) + loss_fn(all_scores.T, torch.arange(batch_size, device=model.device))\n",
    "\n",
    "        loss.backward()\n",
    "        optimizer.step()\n",
    "        optimizer.zero_grad(set_to_none=True)\n",
    "        losses.append(loss.item())\n",
    "        logger.debug(f\"Step {i} - Batch loss: {loss.item():.4f}\")\n",
    "        accuracies.append(get_acc(embeddings))\n",
    "    except RuntimeError:\n",
    "        optimizer.zero_grad(set_to_none=True)\n",
    "        batch, out, embeddings, all_scores, loss = None, None, None, None, None\n",
    "        cleanup()\n",
    "        print('error', max(len(s) for s in myv+ru))\n",
    "        continue\n",
    "    if i % 100 == 0:\n",
    "        print(i, np.mean(losses[-100:]), np.mean(accuracies[-100:]))"
   ]
  },
  {
   "cell_type": "code",
   "execution_count": 29,
   "id": "1b8e1c06-b029-4f29-bb92-add67ccd6eee",
   "metadata": {},
   "outputs": [],
   "source": [
    "optimizer.zero_grad(set_to_none=True)\n",
    "batch, out, embeddings, all_scores, loss = None, None, None, None, None\n",
    "cleanup()"
   ]
  },
  {
   "cell_type": "code",
   "execution_count": 30,
   "id": "802e679b-d9cc-4a55-b2a8-e92f89c65f9c",
   "metadata": {},
   "outputs": [
    {
     "data": {
      "text/plain": [
       "300000"
      ]
     },
     "execution_count": 30,
     "metadata": {},
     "output_type": "execute_result"
    }
   ],
   "source": [
    "len(losses)"
   ]
  },
  {
   "cell_type": "code",
   "execution_count": 31,
   "id": "d651fddf-7657-4538-88e1-b5a0f50e0a18",
   "metadata": {},
   "outputs": [
    {
     "data": {
      "image/png": "[encoded data removed]",
      "text/plain": [
       "<Figure size 640x480 with 1 Axes>"
      ]
     },
     "metadata": {},
     "output_type": "display_data"
    }
   ],
   "source": [
    "pd.Series(losses).ewm(1000).mean()[100:].plot();"
   ]
  },
  {
   "cell_type": "code",
   "execution_count": 32,
   "id": "4a1d3a0b-ada5-479c-8d8c-00c3eee59c5f",
   "metadata": {},
   "outputs": [
    {
     "data": {
      "image/png": "[encoded data removed]",
      "text/plain": [
       "<Figure size 640x480 with 1 Axes>"
      ]
     },
     "metadata": {},
     "output_type": "display_data"
    }
   ],
   "source": [
    "pd.Series(accuracies).ewm(1000).mean()[100:].plot();"
   ]
  },
  {
   "cell_type": "code",
   "execution_count": 1,
   "id": "ea6e8a74-5088-415d-8b8c-62136b8126d7",
   "metadata": {},
   "outputs": [
    {
     "data": {
      "application/vnd.jupyter.widget-view+json": {
       "model_id": "ec236d4e86684a569731e1b45095050e",
       "version_major": 2,
       "version_minor": 0
      },
      "text/plain": [
       "VBox(children=(HTML(value='<center> <img\\nsrc=https://huggingface.co/front/assets/huggingface_logo-noborder.sv…"
      ]
     },
     "metadata": {},
     "output_type": "display_data"
    }
   ],
   "source": [
    "from huggingface_hub import notebook_login\n",
    "\n",
    "notebook_login()"
   ]
  },
  {
   "cell_type": "code",
   "execution_count": 7,
   "id": "b9d322b2-9cf1-48c3-8e09-69b6991de8b1",
   "metadata": {},
   "outputs": [
    {
     "data": {
      "application/vnd.jupyter.widget-view+json": {
       "model_id": "2e3782a0cc514266b50ba3bc1e1b7b2d",
       "version_major": 2,
       "version_minor": 0
      },
      "text/plain": [
       "pytorch_model.bin:   0%|          | 0.00/516M [00:00<?, ?B/s]"
      ]
     },
     "metadata": {},
     "output_type": "display_data"
    },
    {
     "data": {
      "application/vnd.jupyter.widget-view+json": {
       "model_id": "d8f7e7242baf4ac3908fe80ff85d3bfd",
       "version_major": 2,
       "version_minor": 0
      },
      "text/plain": [
       "Upload 1 LFS files:   0%|          | 0/1 [00:00<?, ?it/s]"
      ]
     },
     "metadata": {},
     "output_type": "display_data"
    },
    {
     "data": {
      "text/plain": [
       "CommitInfo(commit_url='https://huggingface.co/zjkarina/LaBSE-instructDialogs/commit/8a32f9e3fd79534e8e36d6a5b7a0b94faa130f77', commit_message='Upload tokenizer', commit_description='', oid='8a32f9e3fd79534e8e36d6a5b7a0b94faa130f77', pr_url=None, pr_revision=None, pr_num=None)"
      ]
     },
     "execution_count": 7,
     "metadata": {},
     "output_type": "execute_result"
    }
   ],
   "source": [
    "model.push_to_hub('zjkarina/LaBSE-instructDialogs')\n",
    "tokenizer.push_to_hub('zjkarina/LaBSE-instructDialogs')"
   ]
  },
  {
   "cell_type": "code",
   "execution_count": 33,
   "id": "9b1e3bfd-5286-4e29-a2a2-7093bc5eb0fb",
   "metadata": {},
   "outputs": [
    {
     "data": {
      "text/plain": [
       "('labse_di/tokenizer_config.json',\n",
       " 'labse_di/special_tokens_map.json',\n",
       " 'labse_di/vocab.txt',\n",
       " 'labse_di/added_tokens.json')"
      ]
     },
     "execution_count": 33,
     "metadata": {},
     "output_type": "execute_result"
    }
   ],
   "source": [
    "NEW_MODEL_NAME = 'labse_instruct' # the same model name; updated embeddings\n",
    "model.save_pretrained(NEW_MODEL_NAME)\n",
    "tokenizer.save_pretrained(NEW_MODEL_NAME)"
   ]
  }
 ],
 "metadata": {
  "kernelspec": {
   "display_name": "Python 3 (ipykernel)",
   "language": "python",
   "name": "python3"
  },
  "language_info": {
   "codemirror_mode": {
    "name": "ipython",
    "version": 3
   },
   "file_extension": ".py",
   "mimetype": "text/x-python",
   "name": "python",
   "nbconvert_exporter": "python",
   "pygments_lexer": "ipython3",
   "version": "3.8.10"
  }
 },
 "nbformat": 4,
 "nbformat_minor": 5
}
